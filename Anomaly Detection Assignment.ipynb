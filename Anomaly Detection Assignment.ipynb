{
 "nbformat": 4,
 "nbformat_minor": 0,
 "metadata": {
  "colab": {
   "name": "Anomaly Detection Assignment.ipynb",
   "provenance": [],
   "collapsed_sections": []
  },
  "kernelspec": {
   "name": "python3",
   "language": "python",
   "display_name": "Python 3"
  },
  "language_info": {
   "name": "python"
  }
 },
 "cells": [
  {
   "cell_type": "code",
   "metadata": {
    "id": "3a5G3BAotXY3"
   },
   "source": [
    "import pandas as pd\n",
    "import numpy as np\n",
    "import matplotlib.pyplot as plt\n",
    "import seaborn as sns"
   ],
   "execution_count": 15,
   "outputs": []
  },
  {
   "cell_type": "code",
   "metadata": {
    "id": "gUX7sxqXteCl"
   },
   "source": [
    "kdd = pd.read_csv('/home/gsoykan20/Desktop/inzva/week2/homework-20210808T093349Z-001/homework/kdd.csv')\n",
    "kdd = kdd.iloc[:,1:43]\n",
    "kdd = kdd.drop(['Protocol Type', 'Service', 'Flag'], axis = 1)\n",
    "\n",
    "kdd_train = kdd.iloc[0:102563, :]\n",
    "kdd_test = kdd.iloc[102563:183737, :]"
   ],
   "execution_count": 2,
   "outputs": []
  },
  {
   "cell_type": "code",
   "metadata": {
    "id": "qK21tJhes7St"
   },
   "source": [
    "kdd_train_probe = kdd_train[(kdd_train.Type_Groups == 'Normal') | (kdd_train.Type_Groups == 'Probe')]\n",
    "kdd_test_probe = kdd_test[(kdd_test.Type_Groups == 'Normal') | (kdd_test.Type_Groups == 'Probe')]\n",
    "\n",
    "# kdd_train_probe['Type_Groups'] = np.where(kdd_train_probe['Type_Groups'] == 'Normal', 0, 1)\n",
    "# kdd_test_probe['Type_Groups'] = np.where(kdd_test_probe['Type_Groups'] == 'Normal', 0, 1)\n",
    "\n",
    "kdd_train_probe['Type_Groups'] = np.where(kdd_train_probe['Type_Groups'] == 'Normal', 1, -1)\n",
    "kdd_test_probe['Type_Groups'] = np.where(kdd_test_probe['Type_Groups'] == 'Normal', 1, -1)"
   ],
   "execution_count": 3,
   "outputs": [
    {
     "name": "stderr",
     "output_type": "stream",
     "text": [
      "<ipython-input-3-c34883aceaa3>:7: SettingWithCopyWarning: \n",
      "A value is trying to be set on a copy of a slice from a DataFrame.\n",
      "Try using .loc[row_indexer,col_indexer] = value instead\n",
      "\n",
      "See the caveats in the documentation: https://pandas.pydata.org/pandas-docs/stable/user_guide/indexing.html#returning-a-view-versus-a-copy\n",
      "  kdd_train_probe['Type_Groups'] = np.where(kdd_train_probe['Type_Groups'] == 'Normal', 1, -1)\n",
      "<ipython-input-3-c34883aceaa3>:8: SettingWithCopyWarning: \n",
      "A value is trying to be set on a copy of a slice from a DataFrame.\n",
      "Try using .loc[row_indexer,col_indexer] = value instead\n",
      "\n",
      "See the caveats in the documentation: https://pandas.pydata.org/pandas-docs/stable/user_guide/indexing.html#returning-a-view-versus-a-copy\n",
      "  kdd_test_probe['Type_Groups'] = np.where(kdd_test_probe['Type_Groups'] == 'Normal', 1, -1)\n"
     ]
    }
   ]
  },
  {
   "cell_type": "code",
   "metadata": {
    "colab": {
     "base_uri": "https://localhost:8080/"
    },
    "id": "NHQMgWKEtp42",
    "executionInfo": {
     "status": "ok",
     "timestamp": 1627670446266,
     "user_tz": -180,
     "elapsed": 491,
     "user": {
      "displayName": "M. Şafak Bilici",
      "photoUrl": "https://lh3.googleusercontent.com/a-/AOh14GiGws-KIvcIpNEMjqPHEpcw8w_sK9CVIeDdXUBQgQ=s64",
      "userId": "15429672687187391255"
     }
    },
    "outputId": "c0b75e80-5fdc-44d3-da08-9cbdd3be7f35"
   },
   "source": [
    "kdd_train_probe.Type_Groups.value_counts()"
   ],
   "execution_count": 4,
   "outputs": [
    {
     "data": {
      "text/plain": " 1    97278\n-1     4107\nName: Type_Groups, dtype: int64"
     },
     "execution_count": 4,
     "metadata": {},
     "output_type": "execute_result"
    }
   ]
  },
  {
   "cell_type": "code",
   "metadata": {
    "id": "nChqLrIqt7tH"
   },
   "source": [
    "kdd_valid_probe = kdd_test_probe.iloc[14000:34000,:]\n",
    "kdd_test_v2_probe = pd.concat([kdd_test_probe.iloc[0:14000,:], kdd_test_probe.iloc[34001:64759,:]])"
   ],
   "execution_count": 5,
   "outputs": []
  },
  {
   "cell_type": "code",
   "execution_count": 6,
   "outputs": [],
   "source": [
    "x_train = kdd_train_probe.drop(['Type_Groups'], axis=1)\n",
    "y_train = kdd_train_probe['Type_Groups']\n",
    "\n",
    "x_validation = kdd_valid_probe.drop(['Type_Groups'], axis=1)\n",
    "y_validation = kdd_valid_probe['Type_Groups']\n",
    "\n",
    "x_test = kdd_test_probe.drop(['Type_Groups'], axis=1)\n",
    "y_test = kdd_test_probe['Type_Groups']\n",
    "\n",
    "x_test_v2 = kdd_test_v2_probe.drop(['Type_Groups'], axis=1)\n",
    "y_test_v2 = kdd_test_v2_probe['Type_Groups']"
   ],
   "metadata": {
    "collapsed": false,
    "pycharm": {
     "name": "#%%\n"
    }
   }
  },
  {
   "cell_type": "code",
   "execution_count": 22,
   "outputs": [],
   "source": [
    "def show_confusion_matrix(gt, pred):\n",
    "    cm = confusion_matrix(gt, pred)\n",
    "    df_cm = pd.DataFrame(cm,\n",
    "                         index=[\"-1\", \"1\"],\n",
    "                         columns=[\"-1\", \"1\"])\n",
    "    hmap = sns.heatmap(df_cm, annot=True, fmt=\"d\", cmap=\"Blues\")\n",
    "    hmap.yaxis.set_ticklabels(hmap.yaxis.get_ticklabels(), rotation=0, ha=\"right\")\n",
    "    hmap.xaxis.set_ticklabels(hmap.xaxis.get_ticklabels(), rotation=30, ha=\"right\")\n",
    "    plt.xlabel(\"Prediction\")\n",
    "    plt.ylabel(\"Ground Truth\")\n",
    "\n",
    "def show_metrics(gt, pred):\n",
    "    print(\"\\nResulting Metrics\")\n",
    "    print(\"Accuracy : %.4g\" % accuracy_score(gt, pred))\n",
    "    print(\"AUC : %f\" % roc_auc_score(gt, pred))\n",
    "    print(\"F1 Score : %f\" % f1_score(gt, pred))\n",
    "    print()\n",
    "    print(f\"{classification_report(gt, pred)}\")\n",
    "    print()\n",
    "    show_confusion_matrix(gt, pred)"
   ],
   "metadata": {
    "collapsed": false,
    "pycharm": {
     "name": "#%%\n"
    }
   }
  },
  {
   "cell_type": "markdown",
   "source": [
    "## ISOLATION FOREST"
   ],
   "metadata": {
    "collapsed": false
   }
  },
  {
   "cell_type": "code",
   "execution_count": 7,
   "outputs": [],
   "source": [
    "from sklearn.ensemble import IsolationForest\n",
    "from sklearn.metrics import (\n",
    "    classification_report,\n",
    "    confusion_matrix,\n",
    "    roc_auc_score,\n",
    "    f1_score,\n",
    "    accuracy_score\n",
    ")"
   ],
   "metadata": {
    "collapsed": false,
    "pycharm": {
     "name": "#%%\n"
    }
   }
  },
  {
   "cell_type": "code",
   "execution_count": 8,
   "outputs": [],
   "source": [
    "# Setting random seed\n",
    "SEED = 2112"
   ],
   "metadata": {
    "collapsed": false,
    "pycharm": {
     "name": "#%%\n"
    }
   }
  },
  {
   "cell_type": "code",
   "execution_count": 9,
   "outputs": [],
   "source": [
    "clfIF = IsolationForest(\n",
    "    max_samples=0.25,\n",
    "    random_state=SEED,\n",
    "    contamination=0.05,#\n",
    "    n_estimators=30,\n",
    "    n_jobs=-1\n",
    ")"
   ],
   "metadata": {
    "collapsed": false,
    "pycharm": {
     "name": "#%%\n"
    }
   }
  },
  {
   "cell_type": "code",
   "execution_count": 10,
   "outputs": [
    {
     "data": {
      "text/plain": "IsolationForest(contamination=0.05, max_samples=0.25, n_estimators=30,\n                n_jobs=-1, random_state=2112)"
     },
     "execution_count": 10,
     "metadata": {},
     "output_type": "execute_result"
    }
   ],
   "source": [
    "clfIF.fit(x_train, y_train)"
   ],
   "metadata": {
    "collapsed": false,
    "pycharm": {
     "name": "#%%\n"
    }
   }
  },
  {
   "cell_type": "code",
   "execution_count": 11,
   "outputs": [],
   "source": [
    "y_validation_pred = clfIF.predict(x_validation)"
   ],
   "metadata": {
    "collapsed": false,
    "pycharm": {
     "name": "#%%\n"
    }
   }
  },
  {
   "cell_type": "code",
   "execution_count": 12,
   "outputs": [
    {
     "name": "stdout",
     "output_type": "stream",
     "text": [
      "              precision    recall  f1-score   support\n",
      "\n",
      "          -1       0.74      0.91      0.82      1244\n",
      "           1       0.99      0.98      0.99     18756\n",
      "\n",
      "    accuracy                           0.98     20000\n",
      "   macro avg       0.87      0.95      0.90     20000\n",
      "weighted avg       0.98      0.98      0.98     20000\n",
      "\n"
     ]
    }
   ],
   "source": [
    "print(classification_report(y_validation, y_validation_pred))"
   ],
   "metadata": {
    "collapsed": false,
    "pycharm": {
     "name": "#%%\n"
    }
   }
  },
  {
   "cell_type": "code",
   "execution_count": 24,
   "outputs": [],
   "source": [
    "y_test_pred = clfIF.predict(x_test)\n",
    "y_test_v2_pred = clfIF.predict(x_test_v2)"
   ],
   "metadata": {
    "collapsed": false,
    "pycharm": {
     "name": "#%%\n"
    }
   }
  },
  {
   "cell_type": "code",
   "execution_count": 25,
   "outputs": [
    {
     "name": "stdout",
     "output_type": "stream",
     "text": [
      "\n",
      "Resulting Metrics\n",
      "Accuracy : 0.9681\n",
      "AUC : 0.970186\n",
      "F1 Score : 0.982664\n",
      "\n",
      "              precision    recall  f1-score   support\n",
      "\n",
      "          -1       0.67      0.97      0.80      4166\n",
      "           1       1.00      0.97      0.98     60593\n",
      "\n",
      "    accuracy                           0.97     64759\n",
      "   macro avg       0.84      0.97      0.89     64759\n",
      "weighted avg       0.98      0.97      0.97     64759\n",
      "\n",
      "\n"
     ]
    },
    {
     "data": {
      "text/plain": "<Figure size 432x288 with 2 Axes>",
      "image/png": "[encoded data removed]"
     },
     "metadata": {
      "needs_background": "light"
     },
     "output_type": "display_data"
    }
   ],
   "source": [
    "show_metrics(y_test, y_test_pred)"
   ],
   "metadata": {
    "collapsed": false,
    "pycharm": {
     "name": "#%%\n"
    }
   }
  },
  {
   "cell_type": "code",
   "execution_count": 27,
   "outputs": [
    {
     "name": "stdout",
     "output_type": "stream",
     "text": [
      "\n",
      "Resulting Metrics\n",
      "Accuracy : 0.9649\n",
      "AUC : 0.979951\n",
      "F1 Score : 0.980869\n",
      "\n",
      "              precision    recall  f1-score   support\n",
      "\n",
      "          -1       0.65      1.00      0.79      2922\n",
      "           1       1.00      0.96      0.98     41836\n",
      "\n",
      "    accuracy                           0.96     44758\n",
      "   macro avg       0.83      0.98      0.88     44758\n",
      "weighted avg       0.98      0.96      0.97     44758\n",
      "\n",
      "\n"
     ]
    },
    {
     "data": {
      "text/plain": "<Figure size 432x288 with 2 Axes>",
      "image/png": "[encoded data removed]"
     },
     "metadata": {
      "needs_background": "light"
     },
     "output_type": "display_data"
    }
   ],
   "source": [
    "show_metrics(y_test_v2, y_test_v2_pred)"
   ],
   "metadata": {
    "collapsed": false,
    "pycharm": {
     "name": "#%%\n"
    }
   }
  },
  {
   "cell_type": "markdown",
   "source": [
    "# Local Outlier Factor"
   ],
   "metadata": {
    "collapsed": false
   }
  },
  {
   "cell_type": "code",
   "execution_count": 30,
   "outputs": [],
   "source": [
    "from sklearn.neighbors import LocalOutlierFactor"
   ],
   "metadata": {
    "collapsed": false,
    "pycharm": {
     "name": "#%%\n"
    }
   }
  },
  {
   "cell_type": "code",
   "execution_count": 31,
   "outputs": [],
   "source": [
    "clfLOF = LocalOutlierFactor(\n",
    "    n_neighbors=7,\n",
    "    metric='manhattan',\n",
    "    algorithm='auto',\n",
    "    contamination=0.05,\n",
    "    n_jobs=-1,\n",
    ")"
   ],
   "metadata": {
    "collapsed": false,
    "pycharm": {
     "name": "#%%\n"
    }
   }
  },
  {
   "cell_type": "code",
   "execution_count": 32,
   "outputs": [
    {
     "data": {
      "text/plain": "LocalOutlierFactor(contamination=0.05, metric='manhattan', n_jobs=-1,\n                   n_neighbors=7)"
     },
     "execution_count": 32,
     "metadata": {},
     "output_type": "execute_result"
    }
   ],
   "source": [
    "clfLOF.fit(x_train, y_train)"
   ],
   "metadata": {
    "collapsed": false,
    "pycharm": {
     "name": "#%%\n"
    }
   }
  },
  {
   "cell_type": "code",
   "execution_count": 33,
   "outputs": [],
   "source": [
    "y_validation_pred = clfLOF.fit_predict(x_validation)\n",
    "y_test_pred = clfLOF.fit_predict(x_test)\n",
    "y_test_v2_pred = clfLOF.fit_predict(x_test_v2)"
   ],
   "metadata": {
    "collapsed": false,
    "pycharm": {
     "name": "#%%\n"
    }
   }
  },
  {
   "cell_type": "code",
   "execution_count": 34,
   "outputs": [
    {
     "name": "stdout",
     "output_type": "stream",
     "text": [
      "\n",
      "Resulting Metrics\n",
      "Accuracy : 0.8989\n",
      "AUC : 0.520915\n",
      "F1 Score : 0.946446\n",
      "\n",
      "              precision    recall  f1-score   support\n",
      "\n",
      "          -1       0.11      0.09      0.10      1244\n",
      "           1       0.94      0.95      0.95     18756\n",
      "\n",
      "    accuracy                           0.90     20000\n",
      "   macro avg       0.53      0.52      0.52     20000\n",
      "weighted avg       0.89      0.90      0.89     20000\n",
      "\n",
      "\n"
     ]
    },
    {
     "data": {
      "text/plain": "<Figure size 432x288 with 2 Axes>",
      "image/png": "[encoded data removed]"
     },
     "metadata": {
      "needs_background": "light"
     },
     "output_type": "display_data"
    }
   ],
   "source": [
    "show_metrics(y_validation, y_validation_pred)"
   ],
   "metadata": {
    "collapsed": false,
    "pycharm": {
     "name": "#%%\n"
    }
   }
  },
  {
   "cell_type": "code",
   "execution_count": 35,
   "outputs": [
    {
     "name": "stdout",
     "output_type": "stream",
     "text": [
      "\n",
      "Resulting Metrics\n",
      "Accuracy : 0.9012\n",
      "AUC : 0.537801\n",
      "F1 Score : 0.947606\n",
      "\n",
      "              precision    recall  f1-score   support\n",
      "\n",
      "          -1       0.16      0.12      0.14      4166\n",
      "           1       0.94      0.95      0.95     60593\n",
      "\n",
      "    accuracy                           0.90     64759\n",
      "   macro avg       0.55      0.54      0.54     64759\n",
      "weighted avg       0.89      0.90      0.90     64759\n",
      "\n",
      "\n"
     ]
    },
    {
     "data": {
      "text/plain": "<Figure size 432x288 with 2 Axes>",
      "image/png": "[encoded data removed]"
     },
     "metadata": {
      "needs_background": "light"
     },
     "output_type": "display_data"
    }
   ],
   "source": [
    "show_metrics(y_test, y_test_pred)"
   ],
   "metadata": {
    "collapsed": false,
    "pycharm": {
     "name": "#%%\n"
    }
   }
  },
  {
   "cell_type": "code",
   "execution_count": 36,
   "outputs": [
    {
     "name": "stdout",
     "output_type": "stream",
     "text": [
      "\n",
      "Resulting Metrics\n",
      "Accuracy : 0.9022\n",
      "AUC : 0.545015\n",
      "F1 Score : 0.948125\n",
      "\n",
      "              precision    recall  f1-score   support\n",
      "\n",
      "          -1       0.18      0.13      0.15      2922\n",
      "           1       0.94      0.96      0.95     41836\n",
      "\n",
      "    accuracy                           0.90     44758\n",
      "   macro avg       0.56      0.55      0.55     44758\n",
      "weighted avg       0.89      0.90      0.90     44758\n",
      "\n",
      "\n"
     ]
    },
    {
     "data": {
      "text/plain": "<Figure size 432x288 with 2 Axes>",
      "image/png": "[encoded data removed]"
     },
     "metadata": {
      "needs_background": "light"
     },
     "output_type": "display_data"
    }
   ],
   "source": [
    "show_metrics(y_test_v2, y_test_v2_pred)"
   ],
   "metadata": {
    "collapsed": false,
    "pycharm": {
     "name": "#%%\n"
    }
   }
  },
  {
   "cell_type": "markdown",
   "source": [
    "## Catboost"
   ],
   "metadata": {
    "collapsed": false,
    "pycharm": {
     "name": "#%% md\n"
    }
   }
  },
  {
   "cell_type": "code",
   "execution_count": 37,
   "outputs": [],
   "source": [
    "from catboost import CatBoostClassifier"
   ],
   "metadata": {
    "collapsed": false,
    "pycharm": {
     "name": "#%%\n"
    }
   }
  },
  {
   "cell_type": "code",
   "execution_count": 40,
   "outputs": [],
   "source": [
    "model = CatBoostClassifier(\n",
    "    iterations=200,\n",
    "    learning_rate=0.02,\n",
    "    depth=12,\n",
    "    eval_metric='AUC',\n",
    "    random_seed = SEED,\n",
    "    bagging_temperature = 0.2,  # This parameter is responsible for Bayesian bootstrap. By changing this parameter from 0 to +infty you can controll intensity of the bootstrap\n",
    "    od_type='Iter',\n",
    "    od_wait=100,    # instead of these 2, we can set early_stopping_rounds\n",
    "    task_type=\"GPU\",\n",
    "    verbose=True\n",
    ")"
   ],
   "metadata": {
    "collapsed": false,
    "pycharm": {
     "name": "#%%\n"
    }
   }
  },
  {
   "cell_type": "code",
   "execution_count": 41,
   "outputs": [
    {
     "name": "stdout",
     "output_type": "stream",
     "text": [
      "0:\tlearn: 0.9995805\ttest: 0.7440927\tbest: 0.7440927 (0)\ttotal: 103ms\tremaining: 20.5s\n",
      "1:\tlearn: 0.9995735\ttest: 0.9422297\tbest: 0.9422297 (1)\ttotal: 112ms\tremaining: 11.1s\n",
      "2:\tlearn: 0.9992452\ttest: 0.9624948\tbest: 0.9624948 (2)\ttotal: 125ms\tremaining: 8.23s\n",
      "3:\tlearn: 0.9992072\ttest: 0.9596758\tbest: 0.9624948 (2)\ttotal: 140ms\tremaining: 6.87s\n",
      "4:\tlearn: 0.9992828\ttest: 0.9705183\tbest: 0.9705183 (4)\ttotal: 149ms\tremaining: 5.81s\n",
      "5:\tlearn: 0.9996566\ttest: 0.9679819\tbest: 0.9705183 (4)\ttotal: 212ms\tremaining: 6.84s\n",
      "6:\tlearn: 0.9997667\ttest: 0.9673088\tbest: 0.9705183 (4)\ttotal: 276ms\tremaining: 7.61s\n",
      "7:\tlearn: 0.9997515\ttest: 0.9650552\tbest: 0.9705183 (4)\ttotal: 336ms\tremaining: 8.06s\n",
      "8:\tlearn: 0.9997838\ttest: 0.9708472\tbest: 0.9708472 (8)\ttotal: 391ms\tremaining: 8.3s\n",
      "9:\tlearn: 0.9998118\ttest: 0.9766127\tbest: 0.9766127 (9)\ttotal: 443ms\tremaining: 8.42s\n",
      "10:\tlearn: 0.9998221\ttest: 0.9709592\tbest: 0.9766127 (9)\ttotal: 496ms\tremaining: 8.52s\n",
      "11:\tlearn: 0.9998367\ttest: 0.9696014\tbest: 0.9766127 (9)\ttotal: 546ms\tremaining: 8.56s\n",
      "12:\tlearn: 0.9998337\ttest: 0.9703278\tbest: 0.9766127 (9)\ttotal: 601ms\tremaining: 8.65s\n",
      "13:\tlearn: 0.9998476\ttest: 0.9788359\tbest: 0.9788359 (13)\ttotal: 653ms\tremaining: 8.67s\n",
      "14:\tlearn: 0.9998500\ttest: 0.9707400\tbest: 0.9788359 (13)\ttotal: 706ms\tremaining: 8.71s\n",
      "15:\tlearn: 0.9998534\ttest: 0.9700782\tbest: 0.9788359 (13)\ttotal: 757ms\tremaining: 8.7s\n",
      "16:\tlearn: 0.9998749\ttest: 0.9725761\tbest: 0.9788359 (13)\ttotal: 807ms\tremaining: 8.69s\n",
      "17:\tlearn: 0.9998814\ttest: 0.9736806\tbest: 0.9788359 (13)\ttotal: 857ms\tremaining: 8.67s\n",
      "18:\tlearn: 0.9998908\ttest: 0.9756355\tbest: 0.9788359 (13)\ttotal: 909ms\tremaining: 8.66s\n",
      "19:\tlearn: 0.9998978\ttest: 0.9753688\tbest: 0.9788359 (13)\ttotal: 962ms\tremaining: 8.65s\n",
      "20:\tlearn: 0.9998977\ttest: 0.9756750\tbest: 0.9788359 (13)\ttotal: 1.01s\tremaining: 8.64s\n",
      "21:\tlearn: 0.9999053\ttest: 0.9756467\tbest: 0.9788359 (13)\ttotal: 1.06s\tremaining: 8.62s\n",
      "22:\tlearn: 0.9999036\ttest: 0.9696017\tbest: 0.9788359 (13)\ttotal: 1.11s\tremaining: 8.58s\n",
      "23:\tlearn: 0.9999160\ttest: 0.9680467\tbest: 0.9788359 (13)\ttotal: 1.17s\tremaining: 8.56s\n",
      "24:\tlearn: 0.9999189\ttest: 0.9673600\tbest: 0.9788359 (13)\ttotal: 1.22s\tremaining: 8.53s\n",
      "25:\tlearn: 0.9999235\ttest: 0.9531140\tbest: 0.9788359 (13)\ttotal: 1.27s\tremaining: 8.49s\n",
      "26:\tlearn: 0.9999216\ttest: 0.9608466\tbest: 0.9788359 (13)\ttotal: 1.32s\tremaining: 8.45s\n",
      "27:\tlearn: 0.9999242\ttest: 0.9523854\tbest: 0.9788359 (13)\ttotal: 1.37s\tremaining: 8.43s\n",
      "28:\tlearn: 0.9999296\ttest: 0.9549190\tbest: 0.9788359 (13)\ttotal: 1.42s\tremaining: 8.4s\n",
      "29:\tlearn: 0.9999313\ttest: 0.9486433\tbest: 0.9788359 (13)\ttotal: 1.48s\tremaining: 8.37s\n",
      "30:\tlearn: 0.9999323\ttest: 0.9483576\tbest: 0.9788359 (13)\ttotal: 1.53s\tremaining: 8.32s\n",
      "31:\tlearn: 0.9999346\ttest: 0.9454842\tbest: 0.9788359 (13)\ttotal: 1.58s\tremaining: 8.3s\n",
      "32:\tlearn: 0.9999365\ttest: 0.9453529\tbest: 0.9788359 (13)\ttotal: 1.63s\tremaining: 8.25s\n",
      "33:\tlearn: 0.9999387\ttest: 0.9506871\tbest: 0.9788359 (13)\ttotal: 1.68s\tremaining: 8.22s\n",
      "34:\tlearn: 0.9999401\ttest: 0.9502247\tbest: 0.9788359 (13)\ttotal: 1.73s\tremaining: 8.18s\n",
      "35:\tlearn: 0.9999399\ttest: 0.9527942\tbest: 0.9788359 (13)\ttotal: 1.79s\tremaining: 8.14s\n",
      "36:\tlearn: 0.9999401\ttest: 0.9550264\tbest: 0.9788359 (13)\ttotal: 1.84s\tremaining: 8.09s\n",
      "37:\tlearn: 0.9999403\ttest: 0.9562277\tbest: 0.9788359 (13)\ttotal: 1.89s\tremaining: 8.06s\n",
      "38:\tlearn: 0.9999444\ttest: 0.9661745\tbest: 0.9788359 (13)\ttotal: 1.94s\tremaining: 8.01s\n",
      "39:\tlearn: 0.9999477\ttest: 0.9707315\tbest: 0.9788359 (13)\ttotal: 1.99s\tremaining: 7.97s\n",
      "40:\tlearn: 0.9999494\ttest: 0.9717607\tbest: 0.9788359 (13)\ttotal: 2.04s\tremaining: 7.93s\n",
      "41:\tlearn: 0.9999527\ttest: 0.9718270\tbest: 0.9788359 (13)\ttotal: 2.1s\tremaining: 7.89s\n",
      "42:\tlearn: 0.9999529\ttest: 0.9723969\tbest: 0.9788359 (13)\ttotal: 2.15s\tremaining: 7.84s\n",
      "43:\tlearn: 0.9999536\ttest: 0.9729849\tbest: 0.9788359 (13)\ttotal: 2.2s\tremaining: 7.8s\n",
      "44:\tlearn: 0.9999546\ttest: 0.9728824\tbest: 0.9788359 (13)\ttotal: 2.25s\tremaining: 7.75s\n",
      "45:\tlearn: 0.9999560\ttest: 0.9730670\tbest: 0.9788359 (13)\ttotal: 2.3s\tremaining: 7.71s\n",
      "46:\tlearn: 0.9999564\ttest: 0.9730221\tbest: 0.9788359 (13)\ttotal: 2.35s\tremaining: 7.66s\n",
      "47:\tlearn: 0.9999569\ttest: 0.9729032\tbest: 0.9788359 (13)\ttotal: 2.41s\tremaining: 7.62s\n",
      "48:\tlearn: 0.9999585\ttest: 0.9732019\tbest: 0.9788359 (13)\ttotal: 2.46s\tremaining: 7.58s\n",
      "49:\tlearn: 0.9999593\ttest: 0.9730277\tbest: 0.9788359 (13)\ttotal: 2.51s\tremaining: 7.53s\n",
      "50:\tlearn: 0.9999605\ttest: 0.9717501\tbest: 0.9788359 (13)\ttotal: 2.56s\tremaining: 7.49s\n",
      "51:\tlearn: 0.9999606\ttest: 0.9707333\tbest: 0.9788359 (13)\ttotal: 2.61s\tremaining: 7.44s\n",
      "52:\tlearn: 0.9999632\ttest: 0.9715824\tbest: 0.9788359 (13)\ttotal: 2.67s\tremaining: 7.39s\n",
      "53:\tlearn: 0.9999645\ttest: 0.9716672\tbest: 0.9788359 (13)\ttotal: 2.72s\tremaining: 7.34s\n",
      "54:\tlearn: 0.9999660\ttest: 0.9717879\tbest: 0.9788359 (13)\ttotal: 2.77s\tremaining: 7.3s\n",
      "55:\tlearn: 0.9999663\ttest: 0.9720531\tbest: 0.9788359 (13)\ttotal: 2.82s\tremaining: 7.25s\n",
      "56:\tlearn: 0.9999674\ttest: 0.9720603\tbest: 0.9788359 (13)\ttotal: 2.87s\tremaining: 7.21s\n",
      "57:\tlearn: 0.9999679\ttest: 0.9722403\tbest: 0.9788359 (13)\ttotal: 2.92s\tremaining: 7.16s\n",
      "58:\tlearn: 0.9999683\ttest: 0.9725111\tbest: 0.9788359 (13)\ttotal: 2.98s\tremaining: 7.12s\n",
      "59:\tlearn: 0.9999700\ttest: 0.9731582\tbest: 0.9788359 (13)\ttotal: 3.03s\tremaining: 7.07s\n",
      "60:\tlearn: 0.9999708\ttest: 0.9732515\tbest: 0.9788359 (13)\ttotal: 3.08s\tremaining: 7.03s\n",
      "61:\tlearn: 0.9999711\ttest: 0.9733096\tbest: 0.9788359 (13)\ttotal: 3.14s\tremaining: 6.98s\n",
      "62:\tlearn: 0.9999718\ttest: 0.9733268\tbest: 0.9788359 (13)\ttotal: 3.19s\tremaining: 6.93s\n",
      "63:\tlearn: 0.9999720\ttest: 0.9732091\tbest: 0.9788359 (13)\ttotal: 3.24s\tremaining: 6.88s\n",
      "64:\tlearn: 0.9999738\ttest: 0.9732552\tbest: 0.9788359 (13)\ttotal: 3.29s\tremaining: 6.84s\n",
      "65:\tlearn: 0.9999739\ttest: 0.9731993\tbest: 0.9788359 (13)\ttotal: 3.34s\tremaining: 6.79s\n",
      "66:\tlearn: 0.9999760\ttest: 0.9731584\tbest: 0.9788359 (13)\ttotal: 3.4s\tremaining: 6.74s\n",
      "67:\tlearn: 0.9999763\ttest: 0.9733966\tbest: 0.9788359 (13)\ttotal: 3.45s\tremaining: 6.69s\n",
      "68:\tlearn: 0.9999777\ttest: 0.9734026\tbest: 0.9788359 (13)\ttotal: 3.52s\tremaining: 6.67s\n",
      "69:\tlearn: 0.9999783\ttest: 0.9732598\tbest: 0.9788359 (13)\ttotal: 3.57s\tremaining: 6.62s\n",
      "70:\tlearn: 0.9999794\ttest: 0.9732845\tbest: 0.9788359 (13)\ttotal: 3.62s\tremaining: 6.57s\n",
      "71:\tlearn: 0.9999804\ttest: 0.9731155\tbest: 0.9788359 (13)\ttotal: 3.67s\tremaining: 6.53s\n",
      "72:\tlearn: 0.9999812\ttest: 0.9729986\tbest: 0.9788359 (13)\ttotal: 3.72s\tremaining: 6.48s\n",
      "73:\tlearn: 0.9999825\ttest: 0.9728388\tbest: 0.9788359 (13)\ttotal: 3.78s\tremaining: 6.43s\n",
      "74:\tlearn: 0.9999836\ttest: 0.9726827\tbest: 0.9788359 (13)\ttotal: 3.83s\tremaining: 6.38s\n",
      "75:\tlearn: 0.9999841\ttest: 0.9724936\tbest: 0.9788359 (13)\ttotal: 3.88s\tremaining: 6.34s\n",
      "76:\tlearn: 0.9999850\ttest: 0.9724292\tbest: 0.9788359 (13)\ttotal: 3.93s\tremaining: 6.29s\n",
      "77:\tlearn: 0.9999856\ttest: 0.9724824\tbest: 0.9788359 (13)\ttotal: 3.99s\tremaining: 6.24s\n",
      "78:\tlearn: 0.9999862\ttest: 0.9724478\tbest: 0.9788359 (13)\ttotal: 4.04s\tremaining: 6.19s\n",
      "79:\tlearn: 0.9999866\ttest: 0.9723649\tbest: 0.9788359 (13)\ttotal: 4.09s\tremaining: 6.14s\n",
      "80:\tlearn: 0.9999874\ttest: 0.9724443\tbest: 0.9788359 (13)\ttotal: 4.16s\tremaining: 6.12s\n",
      "81:\tlearn: 0.9999878\ttest: 0.9725725\tbest: 0.9788359 (13)\ttotal: 4.23s\tremaining: 6.09s\n",
      "82:\tlearn: 0.9999880\ttest: 0.9723561\tbest: 0.9788359 (13)\ttotal: 4.3s\tremaining: 6.07s\n",
      "83:\tlearn: 0.9999881\ttest: 0.9721088\tbest: 0.9788359 (13)\ttotal: 4.37s\tremaining: 6.04s\n",
      "84:\tlearn: 0.9999886\ttest: 0.9720720\tbest: 0.9788359 (13)\ttotal: 4.43s\tremaining: 5.99s\n",
      "85:\tlearn: 0.9999890\ttest: 0.9720739\tbest: 0.9788359 (13)\ttotal: 4.48s\tremaining: 5.94s\n",
      "86:\tlearn: 0.9999890\ttest: 0.9720230\tbest: 0.9788359 (13)\ttotal: 4.53s\tremaining: 5.89s\n",
      "87:\tlearn: 0.9999892\ttest: 0.9720005\tbest: 0.9788359 (13)\ttotal: 4.59s\tremaining: 5.84s\n",
      "88:\tlearn: 0.9999896\ttest: 0.9719689\tbest: 0.9788359 (13)\ttotal: 4.64s\tremaining: 5.79s\n",
      "89:\tlearn: 0.9999897\ttest: 0.9722789\tbest: 0.9788359 (13)\ttotal: 4.69s\tremaining: 5.74s\n",
      "90:\tlearn: 0.9999902\ttest: 0.9721983\tbest: 0.9788359 (13)\ttotal: 4.75s\tremaining: 5.68s\n",
      "91:\tlearn: 0.9999904\ttest: 0.9723384\tbest: 0.9788359 (13)\ttotal: 4.8s\tremaining: 5.63s\n",
      "92:\tlearn: 0.9999903\ttest: 0.9725280\tbest: 0.9788359 (13)\ttotal: 4.85s\tremaining: 5.58s\n",
      "93:\tlearn: 0.9999905\ttest: 0.9723608\tbest: 0.9788359 (13)\ttotal: 4.9s\tremaining: 5.53s\n",
      "94:\tlearn: 0.9999905\ttest: 0.9723251\tbest: 0.9788359 (13)\ttotal: 4.96s\tremaining: 5.48s\n",
      "95:\tlearn: 0.9999905\ttest: 0.9723407\tbest: 0.9788359 (13)\ttotal: 5.01s\tremaining: 5.42s\n",
      "96:\tlearn: 0.9999909\ttest: 0.9721054\tbest: 0.9788359 (13)\ttotal: 5.06s\tremaining: 5.37s\n",
      "97:\tlearn: 0.9999909\ttest: 0.9718982\tbest: 0.9788359 (13)\ttotal: 5.11s\tremaining: 5.32s\n",
      "98:\tlearn: 0.9999909\ttest: 0.9718180\tbest: 0.9788359 (13)\ttotal: 5.16s\tremaining: 5.27s\n",
      "99:\tlearn: 0.9999910\ttest: 0.9716843\tbest: 0.9788359 (13)\ttotal: 5.21s\tremaining: 5.21s\n",
      "100:\tlearn: 0.9999911\ttest: 0.9717546\tbest: 0.9788359 (13)\ttotal: 5.27s\tremaining: 5.16s\n",
      "101:\tlearn: 0.9999915\ttest: 0.9716962\tbest: 0.9788359 (13)\ttotal: 5.32s\tremaining: 5.11s\n",
      "102:\tlearn: 0.9999916\ttest: 0.9718911\tbest: 0.9788359 (13)\ttotal: 5.37s\tremaining: 5.06s\n",
      "103:\tlearn: 0.9999917\ttest: 0.9720080\tbest: 0.9788359 (13)\ttotal: 5.42s\tremaining: 5s\n",
      "104:\tlearn: 0.9999918\ttest: 0.9719306\tbest: 0.9788359 (13)\ttotal: 5.47s\tremaining: 4.95s\n",
      "105:\tlearn: 0.9999921\ttest: 0.9719073\tbest: 0.9788359 (13)\ttotal: 5.53s\tremaining: 4.9s\n",
      "106:\tlearn: 0.9999921\ttest: 0.9718763\tbest: 0.9788359 (13)\ttotal: 5.58s\tremaining: 4.85s\n",
      "107:\tlearn: 0.9999923\ttest: 0.9716751\tbest: 0.9788359 (13)\ttotal: 5.63s\tremaining: 4.8s\n",
      "108:\tlearn: 0.9999925\ttest: 0.9716534\tbest: 0.9788359 (13)\ttotal: 5.68s\tremaining: 4.74s\n",
      "109:\tlearn: 0.9999925\ttest: 0.9716190\tbest: 0.9788359 (13)\ttotal: 5.73s\tremaining: 4.69s\n",
      "110:\tlearn: 0.9999927\ttest: 0.9717581\tbest: 0.9788359 (13)\ttotal: 5.79s\tremaining: 4.64s\n",
      "111:\tlearn: 0.9999928\ttest: 0.9717058\tbest: 0.9788359 (13)\ttotal: 5.84s\tremaining: 4.59s\n",
      "112:\tlearn: 0.9999928\ttest: 0.9716867\tbest: 0.9788359 (13)\ttotal: 5.89s\tremaining: 4.54s\n",
      "113:\tlearn: 0.9999930\ttest: 0.9717510\tbest: 0.9788359 (13)\ttotal: 5.94s\tremaining: 4.48s\n",
      "bestTest = 0.978835851\n",
      "bestIteration = 13\n",
      "Shrink model to first 14 iterations.\n"
     ]
    },
    {
     "data": {
      "text/plain": "<catboost.core.CatBoostClassifier at 0x7fd86e7cf640>"
     },
     "execution_count": 41,
     "metadata": {},
     "output_type": "execute_result"
    }
   ],
   "source": [
    "model.fit(x_train,y_train,eval_set=(x_validation,y_validation))"
   ],
   "metadata": {
    "collapsed": false,
    "pycharm": {
     "name": "#%%\n"
    }
   }
  },
  {
   "cell_type": "code",
   "execution_count": 42,
   "outputs": [],
   "source": [
    "y_validation_pred = model.predict(x_validation)\n",
    "y_test_pred = model.predict(x_test)\n",
    "y_test_v2_pred = model.predict(x_test_v2)"
   ],
   "metadata": {
    "collapsed": false,
    "pycharm": {
     "name": "#%%\n"
    }
   }
  },
  {
   "cell_type": "code",
   "execution_count": 43,
   "outputs": [
    {
     "name": "stdout",
     "output_type": "stream",
     "text": [
      "\n",
      "Resulting Metrics\n",
      "Accuracy : 0.9662\n",
      "AUC : 0.848758\n",
      "F1 Score : 0.981995\n",
      "\n",
      "              precision    recall  f1-score   support\n",
      "\n",
      "          -1       0.73      0.71      0.72      1244\n",
      "           1       0.98      0.98      0.98     18756\n",
      "\n",
      "    accuracy                           0.97     20000\n",
      "   macro avg       0.86      0.85      0.85     20000\n",
      "weighted avg       0.97      0.97      0.97     20000\n",
      "\n",
      "\n"
     ]
    },
    {
     "data": {
      "text/plain": "<Figure size 432x288 with 2 Axes>",
      "image/png": "[encoded data removed]"
     },
     "metadata": {
      "needs_background": "light"
     },
     "output_type": "display_data"
    }
   ],
   "source": [
    "show_metrics(y_validation, y_validation_pred)"
   ],
   "metadata": {
    "collapsed": false,
    "pycharm": {
     "name": "#%%\n"
    }
   }
  },
  {
   "cell_type": "code",
   "execution_count": 44,
   "outputs": [
    {
     "name": "stdout",
     "output_type": "stream",
     "text": [
      "\n",
      "Resulting Metrics\n",
      "Accuracy : 0.9757\n",
      "AUC : 0.926984\n",
      "F1 Score : 0.986949\n",
      "\n",
      "              precision    recall  f1-score   support\n",
      "\n",
      "          -1       0.78      0.87      0.82      4166\n",
      "           1       0.99      0.98      0.99     60593\n",
      "\n",
      "    accuracy                           0.98     64759\n",
      "   macro avg       0.88      0.93      0.90     64759\n",
      "weighted avg       0.98      0.98      0.98     64759\n",
      "\n",
      "\n"
     ]
    },
    {
     "data": {
      "text/plain": "<Figure size 432x288 with 2 Axes>",
      "image/png": "[encoded data removed]"
     },
     "metadata": {
      "needs_background": "light"
     },
     "output_type": "display_data"
    }
   ],
   "source": [
    "show_metrics(y_test, y_test_pred)"
   ],
   "metadata": {
    "collapsed": false,
    "pycharm": {
     "name": "#%%\n"
    }
   }
  },
  {
   "cell_type": "code",
   "execution_count": 45,
   "outputs": [
    {
     "name": "stdout",
     "output_type": "stream",
     "text": [
      "\n",
      "Resulting Metrics\n",
      "Accuracy : 0.9799\n",
      "AUC : 0.960288\n",
      "F1 Score : 0.989187\n",
      "\n",
      "              precision    recall  f1-score   support\n",
      "\n",
      "          -1       0.79      0.94      0.86      2922\n",
      "           1       1.00      0.98      0.99     41836\n",
      "\n",
      "    accuracy                           0.98     44758\n",
      "   macro avg       0.89      0.96      0.92     44758\n",
      "weighted avg       0.98      0.98      0.98     44758\n",
      "\n",
      "\n"
     ]
    },
    {
     "data": {
      "text/plain": "<Figure size 432x288 with 2 Axes>",
      "image/png": "[encoded data removed]"
     },
     "metadata": {
      "needs_background": "light"
     },
     "output_type": "display_data"
    }
   ],
   "source": [
    "show_metrics(y_test_v2, y_test_v2_pred)"
   ],
   "metadata": {
    "collapsed": false,
    "pycharm": {
     "name": "#%%\n"
    }
   }
  },
  {
   "cell_type": "code",
   "execution_count": null,
   "outputs": [],
   "source": [
    "# classify anomalies and normals\n",
    "# train set: kdd_train_probe\n",
    "# validation set (for hyperparam tuning): kdd_valid_probe\n",
    "# test set: kdd_test_v2_probe\n",
    "\n",
    "# Report your auc roc score and avg. macro f1 score on test set\n",
    "# macro f1 score"
   ],
   "metadata": {
    "collapsed": false,
    "pycharm": {
     "name": "#%%\n"
    }
   }
  }
 ]
}